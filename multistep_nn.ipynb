{
 "cells": [
  {
   "cell_type": "code",
   "execution_count": 247,
   "metadata": {},
   "outputs": [
    {
     "data": {
      "text/html": [
       "<div>\n",
       "<style scoped>\n",
       "    .dataframe tbody tr th:only-of-type {\n",
       "        vertical-align: middle;\n",
       "    }\n",
       "\n",
       "    .dataframe tbody tr th {\n",
       "        vertical-align: top;\n",
       "    }\n",
       "\n",
       "    .dataframe thead th {\n",
       "        text-align: right;\n",
       "    }\n",
       "</style>\n",
       "<table border=\"1\" class=\"dataframe\">\n",
       "  <thead>\n",
       "    <tr style=\"text-align: right;\">\n",
       "      <th></th>\n",
       "      <th>Product_Code</th>\n",
       "      <th>W0</th>\n",
       "      <th>W1</th>\n",
       "      <th>W2</th>\n",
       "      <th>W3</th>\n",
       "      <th>W4</th>\n",
       "      <th>W5</th>\n",
       "      <th>W6</th>\n",
       "      <th>W7</th>\n",
       "      <th>W8</th>\n",
       "      <th>...</th>\n",
       "      <th>W43</th>\n",
       "      <th>W44</th>\n",
       "      <th>W45</th>\n",
       "      <th>W46</th>\n",
       "      <th>W47</th>\n",
       "      <th>W48</th>\n",
       "      <th>W49</th>\n",
       "      <th>W50</th>\n",
       "      <th>W51</th>\n",
       "      <th>Product_Code_NUM</th>\n",
       "    </tr>\n",
       "  </thead>\n",
       "  <tbody>\n",
       "    <tr>\n",
       "      <th>0</th>\n",
       "      <td>P1</td>\n",
       "      <td>11</td>\n",
       "      <td>12</td>\n",
       "      <td>10</td>\n",
       "      <td>8</td>\n",
       "      <td>13</td>\n",
       "      <td>12</td>\n",
       "      <td>14</td>\n",
       "      <td>21</td>\n",
       "      <td>6</td>\n",
       "      <td>...</td>\n",
       "      <td>7</td>\n",
       "      <td>8</td>\n",
       "      <td>10</td>\n",
       "      <td>12</td>\n",
       "      <td>3</td>\n",
       "      <td>7</td>\n",
       "      <td>6</td>\n",
       "      <td>5</td>\n",
       "      <td>10</td>\n",
       "      <td>1</td>\n",
       "    </tr>\n",
       "    <tr>\n",
       "      <th>1</th>\n",
       "      <td>P2</td>\n",
       "      <td>7</td>\n",
       "      <td>6</td>\n",
       "      <td>3</td>\n",
       "      <td>2</td>\n",
       "      <td>7</td>\n",
       "      <td>1</td>\n",
       "      <td>6</td>\n",
       "      <td>3</td>\n",
       "      <td>3</td>\n",
       "      <td>...</td>\n",
       "      <td>4</td>\n",
       "      <td>5</td>\n",
       "      <td>1</td>\n",
       "      <td>1</td>\n",
       "      <td>4</td>\n",
       "      <td>5</td>\n",
       "      <td>1</td>\n",
       "      <td>6</td>\n",
       "      <td>0</td>\n",
       "      <td>2</td>\n",
       "    </tr>\n",
       "    <tr>\n",
       "      <th>2</th>\n",
       "      <td>P3</td>\n",
       "      <td>7</td>\n",
       "      <td>11</td>\n",
       "      <td>8</td>\n",
       "      <td>9</td>\n",
       "      <td>10</td>\n",
       "      <td>8</td>\n",
       "      <td>7</td>\n",
       "      <td>13</td>\n",
       "      <td>12</td>\n",
       "      <td>...</td>\n",
       "      <td>14</td>\n",
       "      <td>5</td>\n",
       "      <td>5</td>\n",
       "      <td>7</td>\n",
       "      <td>8</td>\n",
       "      <td>14</td>\n",
       "      <td>8</td>\n",
       "      <td>8</td>\n",
       "      <td>7</td>\n",
       "      <td>3</td>\n",
       "    </tr>\n",
       "    <tr>\n",
       "      <th>3</th>\n",
       "      <td>P4</td>\n",
       "      <td>12</td>\n",
       "      <td>8</td>\n",
       "      <td>13</td>\n",
       "      <td>5</td>\n",
       "      <td>9</td>\n",
       "      <td>6</td>\n",
       "      <td>9</td>\n",
       "      <td>13</td>\n",
       "      <td>13</td>\n",
       "      <td>...</td>\n",
       "      <td>10</td>\n",
       "      <td>3</td>\n",
       "      <td>4</td>\n",
       "      <td>6</td>\n",
       "      <td>8</td>\n",
       "      <td>14</td>\n",
       "      <td>8</td>\n",
       "      <td>7</td>\n",
       "      <td>8</td>\n",
       "      <td>4</td>\n",
       "    </tr>\n",
       "    <tr>\n",
       "      <th>4</th>\n",
       "      <td>P5</td>\n",
       "      <td>8</td>\n",
       "      <td>5</td>\n",
       "      <td>13</td>\n",
       "      <td>11</td>\n",
       "      <td>6</td>\n",
       "      <td>7</td>\n",
       "      <td>9</td>\n",
       "      <td>14</td>\n",
       "      <td>9</td>\n",
       "      <td>...</td>\n",
       "      <td>11</td>\n",
       "      <td>7</td>\n",
       "      <td>12</td>\n",
       "      <td>6</td>\n",
       "      <td>6</td>\n",
       "      <td>5</td>\n",
       "      <td>11</td>\n",
       "      <td>8</td>\n",
       "      <td>9</td>\n",
       "      <td>5</td>\n",
       "    </tr>\n",
       "  </tbody>\n",
       "</table>\n",
       "<p>5 rows × 54 columns</p>\n",
       "</div>"
      ],
      "text/plain": [
       "  Product_Code  W0  W1  W2  W3  W4  W5  W6  W7  W8        ...         W43  \\\n",
       "0           P1  11  12  10   8  13  12  14  21   6        ...           7   \n",
       "1           P2   7   6   3   2   7   1   6   3   3        ...           4   \n",
       "2           P3   7  11   8   9  10   8   7  13  12        ...          14   \n",
       "3           P4  12   8  13   5   9   6   9  13  13        ...          10   \n",
       "4           P5   8   5  13  11   6   7   9  14   9        ...          11   \n",
       "\n",
       "   W44  W45  W46  W47  W48  W49  W50  W51  Product_Code_NUM  \n",
       "0    8   10   12    3    7    6    5   10                 1  \n",
       "1    5    1    1    4    5    1    6    0                 2  \n",
       "2    5    5    7    8   14    8    8    7                 3  \n",
       "3    3    4    6    8   14    8    7    8                 4  \n",
       "4    7   12    6    6    5   11    8    9                 5  \n",
       "\n",
       "[5 rows x 54 columns]"
      ]
     },
     "execution_count": 247,
     "metadata": {},
     "output_type": "execute_result"
    }
   ],
   "source": [
    "import pandas as pd\n",
    "import numpy as np\n",
    "\n",
    "data = pd.read_csv(\"Sales_Transactions_Dataset_Weekly.csv\")\n",
    "data = data.filter(regex=\"Product|W\").copy()\n",
    "\n",
    "data['Product_Code_NUM'] = data['Product_Code'].str.extract(\"(\\d+)\").astype(int)\n",
    "\n",
    "data.head()"
   ]
  },
  {
   "cell_type": "code",
   "execution_count": 248,
   "metadata": {},
   "outputs": [
    {
     "name": "stdout",
     "output_type": "stream",
     "text": [
      "Max Product_Code: 819 - Unique Product_Code: 811\n"
     ]
    }
   ],
   "source": [
    "print(\"Max Product_Code: {} - Unique Product_Code: {}\".format(data['Product_Code_NUM'].max(), data['Product_Code_NUM'].nunique()))"
   ]
  },
  {
   "cell_type": "code",
   "execution_count": 249,
   "metadata": {},
   "outputs": [],
   "source": [
    "X_train = []\n",
    "Y_train = []\n",
    "\n",
    "X_test = []\n",
    "Y_test = []\n",
    "\n",
    "for ix, row in data.iterrows():\n",
    "    for w in range(8, 50):\n",
    "        product_code_num = row['Product_Code_NUM']\n",
    "        x = row.iloc[w-7:w].values.astype(int)\n",
    "        y = row.iloc[w:w+3].values.astype(int)\n",
    "\n",
    "        product_code_num_ohe = to_categorical(product_code_num, num_classes=820)\n",
    "        x = np.append(x, product_code_num_ohe)\n",
    "\n",
    "        if w < 30:\n",
    "            X_train.append(x)\n",
    "            Y_train.append(y)\n",
    "        else:\n",
    "            X_test.append(x)\n",
    "            Y_test.append(y)\n",
    "\n",
    "X_train = np.array(X_train)\n",
    "Y_train = np.array(Y_train)\n",
    "\n",
    "X_test = np.array(X_test)\n",
    "Y_test = np.array(Y_test)\n",
    "    "
   ]
  },
  {
   "cell_type": "code",
   "execution_count": 250,
   "metadata": {},
   "outputs": [
    {
     "data": {
      "text/plain": [
       "((17842, 827), (16220, 827), (17842, 3), (16220, 3))"
      ]
     },
     "execution_count": 250,
     "metadata": {},
     "output_type": "execute_result"
    }
   ],
   "source": [
    "X_train.shape, X_test.shape, Y_train.shape, Y_test.shape"
   ]
  },
  {
   "cell_type": "code",
   "execution_count": 251,
   "metadata": {},
   "outputs": [],
   "source": [
    "from sklearn.preprocessing import RobustScaler\n",
    "scaler = RobustScaler()\n",
    "X_train = scaler.fit_transform(X_train)\n",
    "X_test = scaler.transform(X_test)"
   ]
  },
  {
   "cell_type": "code",
   "execution_count": 252,
   "metadata": {},
   "outputs": [
    {
     "name": "stdout",
     "output_type": "stream",
     "text": [
      "Train on 17842 samples, validate on 16220 samples\n",
      "Epoch 1/20\n",
      "17842/17842 [==============================] - 1s 67us/step - loss: 52.9011 - val_loss: 12.6848\n",
      "Epoch 2/20\n",
      "17842/17842 [==============================] - 1s 48us/step - loss: 15.7175 - val_loss: 12.1521\n",
      "Epoch 3/20\n",
      "17842/17842 [==============================] - 1s 46us/step - loss: 15.6286 - val_loss: 12.0049\n",
      "Epoch 4/20\n",
      "17842/17842 [==============================] - 1s 47us/step - loss: 15.5743 - val_loss: 12.2688\n",
      "Epoch 5/20\n",
      "17842/17842 [==============================] - 1s 47us/step - loss: 15.5218 - val_loss: 12.7508\n",
      "Epoch 6/20\n",
      "17842/17842 [==============================] - 1s 49us/step - loss: 15.5067 - val_loss: 12.0232\n",
      "Epoch 7/20\n",
      "17842/17842 [==============================] - 1s 46us/step - loss: 15.4836 - val_loss: 12.3858\n",
      "Epoch 8/20\n",
      "17842/17842 [==============================] - 1s 48us/step - loss: 15.4385 - val_loss: 12.8957\n",
      "Epoch 9/20\n",
      "17842/17842 [==============================] - 1s 46us/step - loss: 15.3570 - val_loss: 12.2031\n",
      "Epoch 10/20\n",
      "17842/17842 [==============================] - 1s 48us/step - loss: 15.3285 - val_loss: 12.1400\n",
      "Epoch 11/20\n",
      "17842/17842 [==============================] - 1s 49us/step - loss: 15.2375 - val_loss: 12.1572\n",
      "Epoch 12/20\n",
      "17842/17842 [==============================] - 1s 53us/step - loss: 15.2031 - val_loss: 12.4088\n",
      "Epoch 13/20\n",
      "17842/17842 [==============================] - 1s 50us/step - loss: 15.1017 - val_loss: 12.5076\n",
      "Epoch 14/20\n",
      "17842/17842 [==============================] - 1s 54us/step - loss: 15.0883 - val_loss: 11.9328\n",
      "Epoch 15/20\n",
      "17842/17842 [==============================] - 1s 48us/step - loss: 14.9399 - val_loss: 11.8658\n",
      "Epoch 16/20\n",
      "17842/17842 [==============================] - 1s 46us/step - loss: 14.8931 - val_loss: 12.1125\n",
      "Epoch 17/20\n",
      "17842/17842 [==============================] - 1s 45us/step - loss: 14.8073 - val_loss: 12.0152\n",
      "Epoch 18/20\n",
      "17842/17842 [==============================] - 1s 44us/step - loss: 14.7215 - val_loss: 11.7222\n",
      "Epoch 19/20\n",
      "17842/17842 [==============================] - 1s 46us/step - loss: 14.6056 - val_loss: 11.6128\n",
      "Epoch 20/20\n",
      "17842/17842 [==============================] - 1s 50us/step - loss: 14.5390 - val_loss: 11.9381\n"
     ]
    },
    {
     "data": {
      "text/plain": [
       "<keras.callbacks.History at 0x1371880f0>"
      ]
     },
     "execution_count": 252,
     "metadata": {},
     "output_type": "execute_result"
    }
   ],
   "source": [
    "from keras import Model\n",
    "from keras.layers import Dense, Input, Dropout\n",
    "\n",
    "inp = Input(shape=(827,))\n",
    "hid1 = Dense(64, activation='relu')(inp)\n",
    "out  = Dense(3, activation='linear')(hid1)\n",
    "\n",
    "mdl = Model(inputs=inp, outputs=out)\n",
    "mdl.compile(loss='mse', optimizer='adam')\n",
    "\n",
    "mdl.fit(X_train,Y_train, shuffle=True, validation_data=[X_test, Y_test], epochs=20, batch_size=32)"
   ]
  },
  {
   "cell_type": "code",
   "execution_count": 253,
   "metadata": {},
   "outputs": [
    {
     "data": {
      "text/plain": [
       "array([0.29417287, 0.29790673, 0.30176874])"
      ]
     },
     "execution_count": 253,
     "metadata": {},
     "output_type": "execute_result"
    }
   ],
   "source": [
    "p = mdl.predict(X_test)\n",
    "\n",
    "np.sqrt(((np.log1p(p) - np.log1p(Y_test))**2)).mean(axis=0)"
   ]
  }
 ],
 "metadata": {
  "kernelspec": {
   "display_name": "Python 3",
   "language": "python",
   "name": "python3"
  },
  "language_info": {
   "codemirror_mode": {
    "name": "ipython",
    "version": 3
   },
   "file_extension": ".py",
   "mimetype": "text/x-python",
   "name": "python",
   "nbconvert_exporter": "python",
   "pygments_lexer": "ipython3",
   "version": "3.6.6"
  }
 },
 "nbformat": 4,
 "nbformat_minor": 2
}
